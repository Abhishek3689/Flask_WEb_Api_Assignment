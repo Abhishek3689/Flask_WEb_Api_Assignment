{
 "cells": [
  {
   "cell_type": "markdown",
   "id": "530aca26-0a39-4a9c-8cbc-069550d77dd6",
   "metadata": {},
   "source": [
    "Q1. What is an API? Give an example, where an API is used in real life."
   ]
  },
  {
   "cell_type": "code",
   "execution_count": 1,
   "id": "d4fdb1e2-4066-4ca8-b073-1b966d1944bd",
   "metadata": {},
   "outputs": [],
   "source": [
    "## API is Application Programming Inteface with some set of rules that allow computer/systmes to communicate with each other"
   ]
  },
  {
   "cell_type": "code",
   "execution_count": 2,
   "id": "77100d69-a659-4d75-a55b-28a3ffbcf94e",
   "metadata": {},
   "outputs": [],
   "source": [
    "## Google Maps APIs can allow a company to integrate Google Maps on its websites and share its business locations with consumers,"
   ]
  },
  {
   "cell_type": "markdown",
   "id": "c39f9c35-1f24-47d9-8e4d-b789bed7b723",
   "metadata": {},
   "source": [
    "Q2. Give advantages and disadvantages of using API."
   ]
  },
  {
   "cell_type": "markdown",
   "id": "6df57609-c266-4a02-93f2-c097095d3d41",
   "metadata": {},
   "source": [
    "##### Advantages"
   ]
  },
  {
   "cell_type": "code",
   "execution_count": 3,
   "id": "bcce71ee-da98-486b-934d-6276b8134ae2",
   "metadata": {},
   "outputs": [],
   "source": [
    "## Increased Interoperability: API solutions enable different software systems to communicate with each other, regardless of their programming language or platform"
   ]
  },
  {
   "cell_type": "code",
   "execution_count": 4,
   "id": "31a6cecb-2a4f-4d84-bab7-c7c3cccd41b6",
   "metadata": {},
   "outputs": [],
   "source": [
    "## Better User Experience: APIs can enable third-party developers to create applications that integrate with existing software systems, \n",
    "## providing a better user experience and increased functionality."
   ]
  },
  {
   "cell_type": "code",
   "execution_count": 5,
   "id": "afb2387d-c7e4-4b4d-af10-9d771d93af0f",
   "metadata": {},
   "outputs": [],
   "source": [
    "## Increased Flexibility: APIs provide developers with greater flexibility, enabling them to choose the best programming languages and frameworks for their needs."
   ]
  },
  {
   "cell_type": "code",
   "execution_count": 6,
   "id": "16a3f59d-a6bf-460d-8d36-55fe3d14d1a5",
   "metadata": {},
   "outputs": [],
   "source": [
    "## Improved Efficiency: API driven infrastructures enable developers to reuse code and functionality from existing software systems,\n",
    "## saving time and reducing the amount of code that needs to be written from scratch"
   ]
  },
  {
   "cell_type": "markdown",
   "id": "8b0da862-2743-4c77-a479-e9a7f88a3a41",
   "metadata": {},
   "source": [
    "##### Disadvantages"
   ]
  },
  {
   "cell_type": "code",
   "execution_count": 7,
   "id": "4273623e-2aff-48f8-9716-e0dad9eccb25",
   "metadata": {},
   "outputs": [],
   "source": [
    "## Security Concerns: API infrastructures can be vulnerable to security breaches"
   ]
  },
  {
   "cell_type": "code",
   "execution_count": 8,
   "id": "393ba583-3ba1-4cb1-b7a8-2a45e4b4b65d",
   "metadata": {},
   "outputs": [],
   "source": [
    "## Complexity: APIs can be complex, requiring a significant amount of development effort to implement and maintain"
   ]
  },
  {
   "cell_type": "code",
   "execution_count": 9,
   "id": "a99c8447-7c9b-4ac7-a358-c94917a557f3",
   "metadata": {},
   "outputs": [],
   "source": [
    "## Compatibility Issues: APIs can have compatibility issues between different versions of the same software system or between different systems, which can lead to errors and system failure"
   ]
  },
  {
   "cell_type": "markdown",
   "id": "23d72f8f-13cf-4c8a-b76a-3e182ab97417",
   "metadata": {},
   "source": [
    "Q3. What is a Web API? Differentiate between API and Web API."
   ]
  },
  {
   "cell_type": "code",
   "execution_count": 10,
   "id": "bcc4dc8b-f17a-4ca4-a419-cea4537a6d5d",
   "metadata": {},
   "outputs": [],
   "source": [
    "## A Web API is an application programming interface for the Web .\n",
    "## Web API is the enhanced form of the web application to provide services on different devices like laptop, mobile."
   ]
  },
  {
   "cell_type": "markdown",
   "id": "64ba12be-d2fb-42e6-a7b3-378d7d1ac163",
   "metadata": {},
   "source": [
    "##### Difference"
   ]
  },
  {
   "cell_type": "code",
   "execution_count": 11,
   "id": "5a0d6ed4-0284-4cd4-acc4-2e24aeff58c4",
   "metadata": {},
   "outputs": [],
   "source": [
    "## API uses TCP,SMTP,HTTP rules while Web API uses HTTP Protocol"
   ]
  },
  {
   "cell_type": "code",
   "execution_count": 12,
   "id": "9ff51ae2-d1a5-4ebb-a3aa-76502d787a00",
   "metadata": {},
   "outputs": [],
   "source": [
    "## API can have homogenous as well as hetrogenious structure while Web API has hetrogenious "
   ]
  },
  {
   "cell_type": "code",
   "execution_count": 13,
   "id": "c3dea54a-593b-4db4-b64c-c89c42a2ac5f",
   "metadata": {},
   "outputs": [],
   "source": [
    "## Web service supports XML, while API supports XML and JSON"
   ]
  },
  {
   "cell_type": "code",
   "execution_count": 14,
   "id": "fa8b5291-50cd-4179-873d-75ff9a0e31e7",
   "metadata": {},
   "outputs": [],
   "source": [
    "## All Web services are APIs, but all APIs are not web services"
   ]
  },
  {
   "cell_type": "markdown",
   "id": "40a5bfc7-e577-4265-87df-77b2f4951289",
   "metadata": {},
   "source": [
    "Q4. Explain REST and SOAP Architecture. Mention shortcomings of SOAP."
   ]
  },
  {
   "cell_type": "code",
   "execution_count": 15,
   "id": "7528acf4-5d3a-4da0-8eb4-9f7425be4676",
   "metadata": {},
   "outputs": [],
   "source": [
    "## SOAP stands for Simple Object Access Protocol and REST stands for Representational State Transfer"
   ]
  },
  {
   "cell_type": "code",
   "execution_count": 16,
   "id": "48318d18-f52d-4bee-b400-18961495ac19",
   "metadata": {},
   "outputs": [],
   "source": [
    "## REST Uses HTTP as communication Protocol while SOAP uses TCP,SMTP"
   ]
  },
  {
   "cell_type": "code",
   "execution_count": 17,
   "id": "07ec78fd-a6fd-45fe-9613-088df25fcc5c",
   "metadata": {},
   "outputs": [],
   "source": [
    "## SOAP is difficult to implement and it requires more bandwidth whereas REST is easy to implement and requires less bandwidth such as smartphones."
   ]
  },
  {
   "cell_type": "markdown",
   "id": "69f8919f-2b67-497e-8ccc-69962b1a492d",
   "metadata": {},
   "source": [
    "Q5. Differentiate between REST and SOAP."
   ]
  },
  {
   "cell_type": "code",
   "execution_count": 18,
   "id": "e02a32e3-4b01-4045-8117-dcdb220ecc94",
   "metadata": {},
   "outputs": [],
   "source": [
    "## Apart from above Diference below are some other differences"
   ]
  },
  {
   "cell_type": "code",
   "execution_count": 19,
   "id": "41305394-ade2-413d-a096-faf7339e4e32",
   "metadata": {},
   "outputs": [],
   "source": [
    "### SOAP has more Secure as compared to REST"
   ]
  },
  {
   "cell_type": "code",
   "execution_count": 20,
   "id": "677b53b7-b487-49cb-8b04-5c576c376486",
   "metadata": {},
   "outputs": [],
   "source": [
    "## REST is simpler,Flexible and scalalbe while SOAP is complex and highly structured"
   ]
  },
  {
   "cell_type": "code",
   "execution_count": 21,
   "id": "1a812433-2e04-4e16-a77f-60819a1bdf42",
   "metadata": {},
   "outputs": [],
   "source": [
    "## SOAP cannot make use of REST since SOAP is a protocol without any architectural pattern. REST can make use of SOAP because it is an architectural pattern having protocol"
   ]
  },
  {
   "cell_type": "code",
   "execution_count": null,
   "id": "3d96adfc-b8f7-46b1-816a-d5ea1fb81541",
   "metadata": {},
   "outputs": [],
   "source": []
  }
 ],
 "metadata": {
  "kernelspec": {
   "display_name": "Python 3 (ipykernel)",
   "language": "python",
   "name": "python3"
  },
  "language_info": {
   "codemirror_mode": {
    "name": "ipython",
    "version": 3
   },
   "file_extension": ".py",
   "mimetype": "text/x-python",
   "name": "python",
   "nbconvert_exporter": "python",
   "pygments_lexer": "ipython3",
   "version": "3.10.8"
  }
 },
 "nbformat": 4,
 "nbformat_minor": 5
}
